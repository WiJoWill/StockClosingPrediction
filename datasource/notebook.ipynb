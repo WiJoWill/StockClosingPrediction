{
 "cells": [
  {
   "cell_type": "code",
   "execution_count": 1,
   "metadata": {},
   "outputs": [],
   "source": [
    "import numpy as np # type: ignore\n",
    "import pandas as pd\n",
    "import seaborn as sns\n",
    "import matplotlib.pyplot as plt\n",
    "%matplotlib inline\n",
    "import warnings\n",
    "import os\n",
    "warnings.filterwarnings('ignore')"
   ]
  },
  {
   "cell_type": "code",
   "execution_count": 15,
   "metadata": {},
   "outputs": [
    {
     "name": "stdout",
     "output_type": "stream",
     "text": [
      "                 id                                       comment_text  toxic  \\\n",
      "0  0000997932d777bf  Explanation\\nWhy the edits made under my usern...      0   \n",
      "1  000103f0d9cfb60f  D'aww! He matches this background colour I'm s...      0   \n",
      "2  000113f07ec002fd  Hey man, I'm really not trying to edit war. It...      0   \n",
      "3  0001b41b1c6bb37e  \"\\nMore\\nI can't make any real suggestions on ...      0   \n",
      "4  0001d958c54c6e35  You, sir, are my hero. Any chance you remember...      0   \n",
      "\n",
      "   severe_toxic  obscene  threat  insult  identity_hate  \n",
      "0             0        0       0       0              0  \n",
      "1             0        0       0       0              0  \n",
      "2             0        0       0       0              0  \n",
      "3             0        0       0       0              0  \n",
      "4             0        0       0       0              0  \n",
      "id               0\n",
      "comment_text     0\n",
      "toxic            0\n",
      "severe_toxic     0\n",
      "obscene          0\n",
      "threat           0\n",
      "insult           0\n",
      "identity_hate    0\n",
      "dtype: int64\n"
     ]
    }
   ],
   "source": [
    "train_data_18_path = \"jigsaw18_train.csv\"\n",
    "df_18 = pd.read_csv(train_data_18_path, encoding='latin1')\n",
    "print(df_18.head())\n",
    "print(df_18.isna().sum())"
   ]
  },
  {
   "cell_type": "code",
   "execution_count": 16,
   "metadata": {},
   "outputs": [
    {
     "name": "stdout",
     "output_type": "stream",
     "text": [
      "   worker                                         less_toxic  \\\n",
      "0     313            This article sucks \\n\\nwoo woo wooooooo   \n",
      "1     188  \"And yes, people should recognize that but the...   \n",
      "2      82   Western Media?\\n\\nYup, because every crime in...   \n",
      "3     347  And you removed it! You numbskull! I don't car...   \n",
      "4     539   smelly vagina \\n\\nBluerasberry why don't you ...   \n",
      "\n",
      "                                          more_toxic  \n",
      "0  WHAT!!!!!!!!?!?!!?!?!!?!?!?!?!!!!!!!!!!!!!!!!!...  \n",
      "1   Daphne Guinness \\n\\nTop of the mornin' my fav...  \n",
      "2  \"Atom you don't believe actual photos of mastu...  \n",
      "3  You seem to have sand in your vagina.\\n\\nMight...  \n",
      "4           hey \\n\\nway to support nazis, you racist  \n",
      "worker        0\n",
      "less_toxic    0\n",
      "more_toxic    0\n",
      "dtype: int64\n"
     ]
    }
   ],
   "source": [
    "train_data_19_path = \"validation_data.csv\"\n",
    "df_19 = pd.read_csv(train_data_19_path)\n",
    "print(df_19.head())\n",
    "print(df_19.isna().sum())"
   ]
  }
 ],
 "metadata": {
  "kernelspec": {
   "display_name": "base",
   "language": "python",
   "name": "python3"
  },
  "language_info": {
   "codemirror_mode": {
    "name": "ipython",
    "version": 3
   },
   "file_extension": ".py",
   "mimetype": "text/x-python",
   "name": "python",
   "nbconvert_exporter": "python",
   "pygments_lexer": "ipython3",
   "version": "3.9.12"
  }
 },
 "nbformat": 4,
 "nbformat_minor": 2
}
